{
 "cells": [
  {
   "cell_type": "markdown",
   "metadata": {},
   "source": [
    "# First Project - Cleaning up data"
   ]
  },
  {
   "cell_type": "markdown",
   "metadata": {},
   "source": [
    "**Cleaning up the Data** "
   ]
  },
  {
   "cell_type": "code",
   "execution_count": 17,
   "metadata": {},
   "outputs": [
    {
     "name": "stdout",
     "output_type": "stream",
     "text": [
      "[[6.1, True, False, True, 'Scikit-learn', 124267]]\n",
      "21860 5335 10757\n",
      "\n",
      "The amount of Python users are: 21860\n",
      "The amount of R users are: 5335\n",
      "The amount of SQL users are: 10757. \n",
      "The respective proportions are 0.84, 0.21, and 0.41.\n",
      "\n"
     ]
    }
   ],
   "source": [
    "import csv\n",
    "\n",
    "with open('kaggle2021-short.csv') as f:\n",
    "    reader = csv.reader(f, delimiter=\",\")\n",
    "    kaggle_data = list(reader)\n",
    "\n",
    "column_names = kaggle_data[0]\n",
    "survey_responses = kaggle_data[1:]\n",
    "\n",
    "for row in survey_responses:\n",
    "    row[0] = float(row[0])\n",
    "    row[5] = int(row[5])\n",
    "    \n",
    "    if row[1] == 'TRUE':\n",
    "        row[1] = True\n",
    "    elif row[1] == 'FALSE':\n",
    "        row[1] = False\n",
    "    if row[2] == 'TRUE':\n",
    "        row[2] = True\n",
    "    elif row[2] == 'FALSE':\n",
    "        row[2] = False\n",
    "    if row[3] == 'TRUE':\n",
    "        row[3] = True\n",
    "    elif row[3] == 'FALSE':\n",
    "        row[3] = False\n",
    "    if row[4] == 'None':\n",
    "        row[4] = None\n",
    "        \n",
    "first_rows_sr = survey_responses[:1]\n",
    "print(first_rows_sr)\n",
    "\n",
    "#Creating a proportion of Python, R, and SQL users\n",
    "\n",
    "python_count = 0 \n",
    "r_count = 0 \n",
    "sql_count = 0 \n",
    "\n",
    "for row in survey_responses: \n",
    "    if row[1] == True: \n",
    "        python_count += 1\n",
    "    if row[2] == True: \n",
    "        r_count += 1 \n",
    "    if row[3] == True: \n",
    "        sql_count += 1\n",
    "\n",
    "print(python_count, r_count, sql_count)\n",
    "\n",
    "prop_python = python_count / len(survey_responses) \n",
    "prop_r = r_count / len(survey_responses)\n",
    "prop_sql = sql_count / len(survey_responses) \n",
    "\n",
    "print(f'''\n",
    "The amount of Python users are: {python_count}\n",
    "The amount of R users are: {r_count}\n",
    "The amount of SQL users are: {sql_count}. \n",
    "The respective proportions are {round(prop_python,2)}, {round(prop_r,2)}, and {round(prop_sql,2)}.\n",
    "''')\n",
    "\n"
   ]
  },
  {
   "cell_type": "markdown",
   "metadata": {},
   "source": [
    "**Average experience and Compensation**"
   ]
  },
  {
   "cell_type": "code",
   "execution_count": 30,
   "metadata": {},
   "outputs": [
    {
     "name": "stdout",
     "output_type": "stream",
     "text": [
      "\n",
      "The minimum experience is: 0.0 years\n",
      "The maximum experience is: 30.0 years\n",
      "The average experience is: 5.3 years.\n",
      "\n",
      "The minimum compensation is: 0 dollars\n",
      "The maximum compensation is: 1492951 dollars\n",
      "The average compensation is: 53253 dollars.\n",
      "\n"
     ]
    }
   ],
   "source": [
    "experience_coding = [] \n",
    "compensation = [] \n",
    "\n",
    "for row in survey_responses: \n",
    "    experience_coding.append(row[0])\n",
    "    compensation.append(row[-1])\n",
    "\n",
    "for i in range(len(survey_responses)):\n",
    "    experience_coding[i] = float(experience_coding[i])\n",
    "    compensation[i] = int(compensation[i])\n",
    "\n",
    "min_exp = min(experience_coding) \n",
    "max_exp = max(experience_coding) \n",
    "avg_exp = sum(experience_coding) / len(experience_coding) \n",
    "\n",
    "min_comp = min(compensation) \n",
    "max_comp = max(compensation) \n",
    "avg_comp = sum(compensation) / len(compensation)\n",
    "\n",
    "\n",
    "print(f'''\n",
    "The minimum experience is: {min_exp} years\n",
    "The maximum experience is: {max_exp} years\n",
    "The average experience is: {round(avg_exp,2)} years.\n",
    "\n",
    "The minimum compensation is: {min_comp} dollars\n",
    "The maximum compensation is: {max_comp} dollars\n",
    "The average compensation is: {round(avg_comp)} dollars.\n",
    "''') \n",
    "\n"
   ]
  },
  {
   "cell_type": "markdown",
   "metadata": {},
   "source": [
    "**Adding Experience Categories to the Kaggle Data**"
   ]
  },
  {
   "cell_type": "code",
   "execution_count": 35,
   "metadata": {},
   "outputs": [
    {
     "name": "stdout",
     "output_type": "stream",
     "text": [
      "[[6.1, 'TRUE', 'FALSE', 'TRUE', 'Scikit-learn', '124267', '5 - 10 years'], [12.3, 'TRUE', 'TRUE', 'TRUE', 'Scikit-learn', '236889', '10 - 15 years'], [2.2, 'TRUE', 'FALSE', 'FALSE', 'None', '74321', '< 5 years'], [2.7, 'FALSE', 'FALSE', 'TRUE', 'None', '62593', '< 5 years'], [1.2, 'TRUE', 'FALSE', 'FALSE', 'Scikit-learn', '36288', '< 5 years']]\n"
     ]
    }
   ],
   "source": [
    "categories = ['< 5 years', '5 - 10 years', '10 - 15 years', '15 - 20 years', '20 - 25 years', '+25 years']\n",
    "\n",
    "for row in survey_responses: \n",
    "    row[0] = float(row[0])\n",
    "    if row[0] < 5: \n",
    "        row.append(categories[0])\n",
    "    elif row[0] < 10:\n",
    "        row.append(categories[1])\n",
    "    elif row[0] < 15:\n",
    "        row.append(categories[2])\n",
    "    elif row[0] < 20:\n",
    "        row.append(categories[3])\n",
    "    elif row[0] < 25:\n",
    "        row.append(categories[4])\n",
    "    else: \n",
    "        row.append(categories[5])\n",
    "\n",
    "print(survey_responses[:5])                 \n"
   ]
  },
  {
   "cell_type": "markdown",
   "metadata": {},
   "source": [
    "**Calculating the Average Compensation per Experience Category** "
   ]
  },
  {
   "cell_type": "code",
   "execution_count": 41,
   "metadata": {},
   "outputs": [
    {
     "name": "stdout",
     "output_type": "stream",
     "text": [
      "\n",
      "The average salary for 0 - 5 years of experience is: 45048 dollars\n",
      "The average salary for 5 - 10 years of experience is: 59313 dollars\n",
      "The average salary for 10 - 15 years of experience is: 80227 dollars\n",
      "The average salary for 15 - 20 years of experience is: 75102 dollars\n",
      "The average salary for 20 - 25 years of experience is: 103160 dollars\n",
      "The average salary for more than 25 years of experience is: 90445 dollars\n",
      "\n"
     ]
    }
   ],
   "source": [
    "less_than_5 = []\n",
    "five_ten = [] \n",
    "ten_fifteen = []\n",
    "fifteen_twenty = [] \n",
    "twenty_25 = [] \n",
    "more_than_25 = [] \n",
    "\n",
    "\n",
    "for row in survey_responses:\n",
    "    row[-2] = int(row[-2])\n",
    "    if row[-1] == '< 5 years':\n",
    "        less_than_5.append(row[-2]) \n",
    "    elif row[-1] == '5 - 10 years':\n",
    "        five_ten.append(row[-2])\n",
    "    elif row[-1] == '10 - 15 years':\n",
    "        ten_fifteen.append(row[-2])\n",
    "    elif row[-1] == '15 - 20 years':\n",
    "        fifteen_twenty.append(row[-2])\n",
    "    elif row[-1] == '20 - 25 years': \n",
    "        twenty_25.append(row[-2])\n",
    "    elif row[-1] == '+25 years': \n",
    "        more_than_25.append(row[-2])\n",
    "\n",
    "total_less_than_5 = len(less_than_5)      \n",
    "total_five_ten = len(five_ten) \n",
    "total_ten_fifteen = len(ten_fifteen)\n",
    "total_fifteen_twenty = len(fifteen_twenty)\n",
    "total_twenty_25 = len(twenty_25)\n",
    "total_more_than_25 = len(more_than_25)\n",
    "\n",
    "avg_less_than_5 = sum(less_than_5) / total_less_than_5\n",
    "avg_five_ten = sum(five_ten) / total_five_ten\n",
    "avg_ten_fifteen = sum(ten_fifteen) / total_ten_fifteen\n",
    "avg_fifteen_twenty = sum(fifteen_twenty) / total_fifteen_twenty\n",
    "avg_twenty_25 = sum(twenty_25) / total_twenty_25\n",
    "avg_more_than_25 = sum(more_than_25) / total_more_than_25\n",
    "\n",
    "print(f'''\n",
    "The average salary for 0 - 5 years of experience is: {round(avg_less_than_5)} dollars\n",
    "The average salary for 5 - 10 years of experience is: {round(avg_five_ten)} dollars\n",
    "The average salary for 10 - 15 years of experience is: {round(avg_ten_fifteen)} dollars\n",
    "The average salary for 15 - 20 years of experience is: {round(avg_fifteen_twenty)} dollars\n",
    "The average salary for 20 - 25 years of experience is: {round(avg_twenty_25)} dollars\n",
    "The average salary for more than 25 years of experience is: {round(avg_more_than_25)} dollars\n",
    "''')"
   ]
  }
 ],
 "metadata": {
  "kernelspec": {
   "display_name": "Python 3 (ipykernel)",
   "language": "python",
   "name": "python3"
  },
  "language_info": {
   "codemirror_mode": {
    "name": "ipython",
    "version": 3
   },
   "file_extension": ".py",
   "mimetype": "text/x-python",
   "name": "python",
   "nbconvert_exporter": "python",
   "pygments_lexer": "ipython3",
   "version": "3.10.6"
  }
 },
 "nbformat": 4,
 "nbformat_minor": 4
}
